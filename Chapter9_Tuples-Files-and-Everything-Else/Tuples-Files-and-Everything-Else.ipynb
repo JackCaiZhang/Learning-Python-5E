{
 "cells": [
  {
   "cell_type": "markdown",
   "source": [
    "# 元组（Tuples）\n",
    "元组构建简单的对象组。它们的工作方式与列表完全相同，只是元组不能原地改变（它们是不可变的）并且通常被写作圆括号内的一系列项，而不是方括号。尽管它们不支持太多的方法，但却与列表共享大部分的属性。下面是对基础知识的快速概览。元组的主要属性如下：\n",
    "\n",
    "1. 任意对象的有序集合（Ordered collections of arabitrary objects）\n",
    "   像字符串和列表一样，元组是对象的位置有序集合（也就是说，它们在内容中保持从左到右的顺序）；像列表一样，其中可以嵌入任何类型的对象。\n",
    "\n",
    "2. 通过偏移量访问（Accessed by offset）\n",
    "   与字符串和列表一样，元组中的项是通过偏移量（而不是键）访问的；它们支持所有基于偏移量的访问操作，例如索引和切片。\n",
    "\n",
    "3. 属于“不可变序列”类别（Of the category \"immutable sequence\"）\n",
    "   与字符串和列表一样，元组是序列；它们支持许多相同的操作。然而，与字符串一样，元组是不可变的；它们不支持应用于列表的任何原地修改操作。\n",
    "\n",
    "4. 固定长度、异构、任意嵌套（Fixed-length, heterogeneous, and arbitrarily nestable）\n",
    "   因为元组是不可变的，所以你不能在不拷贝的清涕下改变元组的大小。另一方面，元组可以容纳任何类型的对象，包括其他复合对象（例如，列表、字典、其他元组），因此支持任意嵌套。\n",
    "\n",
    "5. 对象引用数组（Arrays of object references）\n",
    "   与列表一样，最好将元组看作对象引用数组；元组存储对其他对象（引用）的访问点，并且对元组进行索引是相对快速的。"
   ],
   "metadata": {
    "collapsed": false
   }
  },
  {
   "cell_type": "markdown",
   "source": [
    "## 元组实战（Tuples in Action）\n",
    "### 元组的语法特点：逗号和圆括号\n",
    "因为括号也可以包围表达式，所以你需要做一些特殊的操作来告诉Python，括号中的单个对象是一个元组对象，而不是一个简单的表达式。如果你真的想要一个单项元组，只需在单项后面、闭括号前面添加一个逗号即可："
   ],
   "metadata": {
    "collapsed": false
   }
  },
  {
   "cell_type": "code",
   "execution_count": 1,
   "outputs": [],
   "source": [
    "x = (40)"
   ],
   "metadata": {
    "collapsed": false
   }
  },
  {
   "cell_type": "code",
   "execution_count": 2,
   "outputs": [
    {
     "data": {
      "text/plain": "40"
     },
     "execution_count": 2,
     "metadata": {},
     "output_type": "execute_result"
    }
   ],
   "source": [
    "x"
   ],
   "metadata": {
    "collapsed": false
   }
  },
  {
   "cell_type": "code",
   "execution_count": 3,
   "outputs": [],
   "source": [
    "y = (40,)"
   ],
   "metadata": {
    "collapsed": false
   }
  },
  {
   "cell_type": "code",
   "execution_count": 4,
   "outputs": [
    {
     "data": {
      "text/plain": "(40,)"
     },
     "execution_count": 4,
     "metadata": {},
     "output_type": "execute_result"
    }
   ],
   "source": [
    "y"
   ],
   "metadata": {
    "collapsed": false
   }
  },
  {
   "cell_type": "markdown",
   "source": [
    "当然有个特例，如果上下文不会产生歧义的话，可以省略括号。比如："
   ],
   "metadata": {
    "collapsed": false
   }
  },
  {
   "cell_type": "code",
   "execution_count": 5,
   "outputs": [],
   "source": [
    "t = 0, 'Ni', 1.2, 3"
   ],
   "metadata": {
    "collapsed": false
   }
  },
  {
   "cell_type": "code",
   "execution_count": 6,
   "outputs": [
    {
     "data": {
      "text/plain": "(0, 'Ni', 1.2, 3)"
     },
     "execution_count": 6,
     "metadata": {},
     "output_type": "execute_result"
    }
   ],
   "source": [
    "t"
   ],
   "metadata": {
    "collapsed": false
   }
  },
  {
   "cell_type": "markdown",
   "source": [
    "元组字面量中最常见的需要括号的地方是：\n",
    "\n",
    "- 括号很重要——在函数调用中，或者嵌套在更大的表达式中。\n",
    "- 逗号很重要——嵌入在更大的数据结构（如列表或字典）的字面量中，或者在Python 2.X的print语句中列出。"
   ],
   "metadata": {
    "collapsed": false
   }
  },
  {
   "cell_type": "markdown",
   "source": [
    "### 转换、方法和不可变性\n",
    "除了字面语法差异，元组操作与字符串和列表操作完全相同。值得注意的唯一差异是，当应用于元组时，+，*和切片操作会返回新的元组，而且元组不提供您在字符串，列表和字典中看到的相同方法。例如，如果您想对元组进行排序，您通常需要先将其转换为列表以访问排序方法调用并使其成为一个可变对象，或者使用新的内置排序函数（sorted），该函数接受任何序列对象（以及其他可迭代对象）："
   ],
   "metadata": {
    "collapsed": false
   }
  },
  {
   "cell_type": "code",
   "execution_count": 7,
   "outputs": [],
   "source": [
    "T = ('cc', 'aa', 'dd', 'bb')"
   ],
   "metadata": {
    "collapsed": false
   }
  },
  {
   "cell_type": "code",
   "execution_count": 8,
   "outputs": [],
   "source": [
    "tmp = list(T)   # Make a list from a tuple's items"
   ],
   "metadata": {
    "collapsed": false
   }
  },
  {
   "cell_type": "code",
   "execution_count": 9,
   "outputs": [],
   "source": [
    "tmp.sort()      # Sort the list"
   ],
   "metadata": {
    "collapsed": false
   }
  },
  {
   "cell_type": "code",
   "execution_count": 10,
   "outputs": [
    {
     "data": {
      "text/plain": "['aa', 'bb', 'cc', 'dd']"
     },
     "execution_count": 10,
     "metadata": {},
     "output_type": "execute_result"
    }
   ],
   "source": [
    "tmp"
   ],
   "metadata": {
    "collapsed": false
   }
  },
  {
   "cell_type": "code",
   "execution_count": 11,
   "outputs": [],
   "source": [
    "T = tuple(tmp)      # Make a tuple from the list's items"
   ],
   "metadata": {
    "collapsed": false
   }
  },
  {
   "cell_type": "code",
   "execution_count": 12,
   "outputs": [
    {
     "data": {
      "text/plain": "('aa', 'bb', 'cc', 'dd')"
     },
     "execution_count": 12,
     "metadata": {},
     "output_type": "execute_result"
    }
   ],
   "source": [
    "T"
   ],
   "metadata": {
    "collapsed": false
   }
  },
  {
   "cell_type": "code",
   "execution_count": 13,
   "outputs": [
    {
     "data": {
      "text/plain": "['aa', 'bb', 'cc', 'dd']"
     },
     "execution_count": 13,
     "metadata": {},
     "output_type": "execute_result"
    }
   ],
   "source": [
    "sorted(T)   # Or use thet sorted built-in, and save two steps"
   ],
   "metadata": {
    "collapsed": false
   }
  },
  {
   "cell_type": "markdown",
   "source": [
    "在这里，使用了列表和元组内置函数将对象转换为列表，然后再转回元组；实际上，这两个调用都会生成新的对象，但总体效果就像是一个转换。\n",
    "\n",
    "列表推导也可以用于转换元组。例如，以下内容会通过元组创建一个列表，并在此过程中将每个项目都加20："
   ],
   "metadata": {
    "collapsed": false
   }
  },
  {
   "cell_type": "code",
   "execution_count": 14,
   "outputs": [],
   "source": [
    "T = (1, 2, 3, 4, 5)"
   ],
   "metadata": {
    "collapsed": false
   }
  },
  {
   "cell_type": "code",
   "execution_count": 15,
   "outputs": [],
   "source": [
    "L = [x + 20 for x in T]"
   ],
   "metadata": {
    "collapsed": false
   }
  },
  {
   "cell_type": "code",
   "execution_count": 16,
   "outputs": [
    {
     "data": {
      "text/plain": "[21, 22, 23, 24, 25]"
     },
     "execution_count": 16,
     "metadata": {},
     "output_type": "execute_result"
    }
   ],
   "source": [
    "L"
   ],
   "metadata": {
    "collapsed": false
   }
  },
  {
   "cell_type": "markdown",
   "source": [
    "尽管元组没有列表和字符串相同的方法，但从Python 2.6和3.0开始，它们确实有自己的两种方法 - index和count在元组对象中的定义和在列表中一样："
   ],
   "metadata": {
    "collapsed": false
   }
  },
  {
   "cell_type": "code",
   "execution_count": 17,
   "outputs": [],
   "source": [
    "T = (1, 2, 3, 2, 4, 2)"
   ],
   "metadata": {
    "collapsed": false
   }
  },
  {
   "cell_type": "code",
   "execution_count": 18,
   "outputs": [
    {
     "data": {
      "text/plain": "1"
     },
     "execution_count": 18,
     "metadata": {},
     "output_type": "execute_result"
    }
   ],
   "source": [
    "T.index(2)      # 元素2第一次出现的索引位置"
   ],
   "metadata": {
    "collapsed": false
   }
  },
  {
   "cell_type": "code",
   "execution_count": 19,
   "outputs": [
    {
     "data": {
      "text/plain": "3"
     },
     "execution_count": 19,
     "metadata": {},
     "output_type": "execute_result"
    }
   ],
   "source": [
    "T.index(2, 2)   # 元素2在索引2之后第一次出现的位置"
   ],
   "metadata": {
    "collapsed": false
   }
  },
  {
   "cell_type": "code",
   "execution_count": 20,
   "outputs": [
    {
     "data": {
      "text/plain": "5"
     },
     "execution_count": 20,
     "metadata": {},
     "output_type": "execute_result"
    }
   ],
   "source": [
    "T.index(2, 4)"
   ],
   "metadata": {
    "collapsed": false
   }
  },
  {
   "cell_type": "code",
   "execution_count": 21,
   "outputs": [
    {
     "data": {
      "text/plain": "3"
     },
     "execution_count": 21,
     "metadata": {},
     "output_type": "execute_result"
    }
   ],
   "source": [
    "T.count(2)      # 元素2出现的次数"
   ],
   "metadata": {
    "collapsed": false
   }
  },
  {
   "cell_type": "markdown",
   "source": [
    "另外，请注意，关于元组不可变性的规则仅适用于元组本身的顶层，而不适用于其内容。例如，元组内部的列表可以像往常一样进行更改："
   ],
   "metadata": {
    "collapsed": false
   }
  },
  {
   "cell_type": "code",
   "execution_count": 22,
   "outputs": [],
   "source": [
    "T = (1, [2, 3], 4)"
   ],
   "metadata": {
    "collapsed": false
   }
  },
  {
   "cell_type": "code",
   "execution_count": 23,
   "outputs": [
    {
     "ename": "TypeError",
     "evalue": "'tuple' object does not support item assignment",
     "output_type": "error",
     "traceback": [
      "\u001B[1;31m---------------------------------------------------------------------------\u001B[0m",
      "\u001B[1;31mTypeError\u001B[0m                                 Traceback (most recent call last)",
      "\u001B[1;32m<ipython-input-23-577df153e985>\u001B[0m in \u001B[0;36m<module>\u001B[1;34m()\u001B[0m\n\u001B[1;32m----> 1\u001B[1;33m \u001B[0mT\u001B[0m\u001B[1;33m[\u001B[0m\u001B[1;36m1\u001B[0m\u001B[1;33m]\u001B[0m \u001B[1;33m=\u001B[0m \u001B[1;34m'spam'\u001B[0m   \u001B[1;31m# This fails: can't change tuple itself\u001B[0m\u001B[1;33m\u001B[0m\u001B[0m\n\u001B[0m",
      "\u001B[1;31mTypeError\u001B[0m: 'tuple' object does not support item assignment"
     ]
    }
   ],
   "source": [
    "T[1] = 'spam'   # This fails: can't change tuple itself"
   ],
   "metadata": {
    "collapsed": false
   }
  },
  {
   "cell_type": "code",
   "execution_count": 24,
   "outputs": [],
   "source": [
    "T[1][0] = 'spam'    # This works: can change mutables inside"
   ],
   "metadata": {
    "collapsed": false
   }
  },
  {
   "cell_type": "code",
   "execution_count": 25,
   "outputs": [
    {
     "data": {
      "text/plain": "(1, ['spam', 3], 4)"
     },
     "execution_count": 25,
     "metadata": {},
     "output_type": "execute_result"
    }
   ],
   "source": [
    "T"
   ],
   "metadata": {
    "collapsed": false
   }
  },
  {
   "cell_type": "markdown",
   "source": [
    "## 既然有了列表，为什么还要元组？\n",
    "这似乎是在教初学者元组时总是首先提出的问题：如果我们有列表，为什么还需要元组？其中一些原因可能是历史性的；Python 的创建者是一名经过培训的数学家，引用他的说法就是可以将元组视为对象的简单关联，将列表视为随时间变化的数据结构。实际上，“元组”一词本身就源自数学，就像它经常用于关系数据库表中的一行一样。\n",
    "\n",
    "然而，最好的答案似乎是，元组的不可变性提供了一些完整性——你可以确保元组不会通过程序中的其他引用被更改，但是列表没有这样的保证。因此，元组和其他不可变的对象扮演了与其他语言中类似“常量”声明的角色，尽管在Python中，常量的概念与对象而非变量相关。\n",
    "\n",
    "元组还可以用在列表无法使用的地方——例如，作为字典键（比如稀疏矩阵的表示）。一些内置操作可能也需要或暗示元组而不是列表（例如，字符串格式表达式中的替换值），尽管这些操作在近年来常常被推广以增加灵活性。作为经验法则，列表是可能是需要更改的有序集合的首选工具；元组可以处理其他固定关联的情况。"
   ],
   "metadata": {
    "collapsed": false
   }
  },
  {
   "cell_type": "markdown",
   "source": [
    "## 记录回顾：命名元组\n",
    "只要我们不要求可变性，那么元组用作表示记录，像列表那样通过位置访问记录字段："
   ],
   "metadata": {
    "collapsed": false
   }
  },
  {
   "cell_type": "code",
   "execution_count": 26,
   "outputs": [],
   "source": [
    "bob = ('Bob', 40.5, ['dev', 'mgr'])"
   ],
   "metadata": {
    "collapsed": false
   }
  },
  {
   "cell_type": "code",
   "execution_count": 27,
   "outputs": [
    {
     "data": {
      "text/plain": "('Bob', 40.5, ['dev', 'mgr'])"
     },
     "execution_count": 27,
     "metadata": {},
     "output_type": "execute_result"
    }
   ],
   "source": [
    "bob"
   ],
   "metadata": {
    "collapsed": false
   }
  },
  {
   "cell_type": "code",
   "execution_count": 28,
   "outputs": [
    {
     "data": {
      "text/plain": "('Bob', ['dev', 'mgr'])"
     },
     "execution_count": 28,
     "metadata": {},
     "output_type": "execute_result"
    }
   ],
   "source": [
    "bob[0], bob[2]      # Access by position"
   ],
   "metadata": {
    "collapsed": false
   }
  },
  {
   "cell_type": "markdown",
   "source": [
    "然而，就像列表一样，元组中的字段数通常比字典中键的名称携带的信息少。下面是将相同记录重新编码为带有命名字段的字典："
   ],
   "metadata": {
    "collapsed": false
   }
  },
  {
   "cell_type": "code",
   "execution_count": 29,
   "outputs": [],
   "source": [
    "bob = dict(name='Bob', age=40.5, jobs=['dev', 'mgr'])"
   ],
   "metadata": {
    "collapsed": false
   }
  },
  {
   "cell_type": "code",
   "execution_count": 30,
   "outputs": [
    {
     "data": {
      "text/plain": "{'name': 'Bob', 'age': 40.5, 'jobs': ['dev', 'mgr']}"
     },
     "execution_count": 30,
     "metadata": {},
     "output_type": "execute_result"
    }
   ],
   "source": [
    "bob"
   ],
   "metadata": {
    "collapsed": false
   }
  },
  {
   "cell_type": "code",
   "execution_count": 31,
   "outputs": [
    {
     "data": {
      "text/plain": "('Bob', ['dev', 'mgr'])"
     },
     "execution_count": 31,
     "metadata": {},
     "output_type": "execute_result"
    }
   ],
   "source": [
    "bob['name'], bob['jobs']        # Access by key"
   ],
   "metadata": {
    "collapsed": false
   }
  },
  {
   "cell_type": "markdown",
   "source": [
    "事实上，如果需要的话，我们可以将字典的部分转换为元组："
   ],
   "metadata": {
    "collapsed": false
   }
  },
  {
   "cell_type": "code",
   "execution_count": 32,
   "outputs": [
    {
     "data": {
      "text/plain": "('Bob', 40.5, ['dev', 'mgr'])"
     },
     "execution_count": 32,
     "metadata": {},
     "output_type": "execute_result"
    }
   ],
   "source": [
    "tuple(bob.values())     # Values to tuple"
   ],
   "metadata": {
    "collapsed": false
   }
  },
  {
   "cell_type": "code",
   "execution_count": 33,
   "outputs": [
    {
     "data": {
      "text/plain": "[('name', 'Bob'), ('age', 40.5), ('jobs', ['dev', 'mgr'])]"
     },
     "execution_count": 33,
     "metadata": {},
     "output_type": "execute_result"
    }
   ],
   "source": [
    "list(bob.items())       # Items to tuple list"
   ],
   "metadata": {
    "collapsed": false
   }
  },
  {
   "cell_type": "markdown",
   "source": [
    "但是，通过一些额外的工作，我们可以实现既可以通过位置又可以通过名称访问记录字段的对象。例如，标准库的collections模块中提到的namedtuple实用工具，实现了一个扩展类型，该类型为元组添加了逻辑，使得组件可以通过位置和属性名称进行访问，并且如果需要，可以转换为类似字典的形式通过键进行访问。属性名称来自类，并不完全是字典键，但它们同样有记忆性："
   ],
   "metadata": {
    "collapsed": false
   }
  },
  {
   "cell_type": "code",
   "execution_count": 34,
   "outputs": [],
   "source": [
    "from collections import namedtuple"
   ],
   "metadata": {
    "collapsed": false
   }
  },
  {
   "cell_type": "code",
   "execution_count": 35,
   "outputs": [],
   "source": [
    "Rec = namedtuple('Rec', ['name', 'age', 'jobs'])    # Make a generated class"
   ],
   "metadata": {
    "collapsed": false
   }
  },
  {
   "cell_type": "code",
   "execution_count": 36,
   "outputs": [],
   "source": [
    "bob = Rec('Bob', age=40.5, jobs=['dev', 'mgr'])     # A named-tuple record"
   ],
   "metadata": {
    "collapsed": false
   }
  },
  {
   "cell_type": "code",
   "execution_count": 37,
   "outputs": [
    {
     "data": {
      "text/plain": "Rec(name='Bob', age=40.5, jobs=['dev', 'mgr'])"
     },
     "execution_count": 37,
     "metadata": {},
     "output_type": "execute_result"
    }
   ],
   "source": [
    "bob"
   ],
   "metadata": {
    "collapsed": false
   }
  },
  {
   "cell_type": "code",
   "execution_count": 38,
   "outputs": [
    {
     "data": {
      "text/plain": "('Bob', ['dev', 'mgr'])"
     },
     "execution_count": 38,
     "metadata": {},
     "output_type": "execute_result"
    }
   ],
   "source": [
    "bob[0], bob[2]      # Access by position"
   ],
   "metadata": {
    "collapsed": false
   }
  },
  {
   "cell_type": "code",
   "execution_count": 39,
   "outputs": [
    {
     "data": {
      "text/plain": "('Bob', ['dev', 'mgr'])"
     },
     "execution_count": 39,
     "metadata": {},
     "output_type": "execute_result"
    }
   ],
   "source": [
    "bob.name, bob.jobs  # Access by attribute"
   ],
   "metadata": {
    "collapsed": false
   }
  },
  {
   "cell_type": "markdown",
   "source": [
    "在需要的时候，转换为字典可以支持基于键的行为："
   ],
   "metadata": {
    "collapsed": false
   }
  },
  {
   "cell_type": "code",
   "execution_count": 40,
   "outputs": [],
   "source": [
    "d = bob._asdict()       # Dictionary-like form"
   ],
   "metadata": {
    "collapsed": false
   }
  },
  {
   "cell_type": "code",
   "execution_count": 41,
   "outputs": [
    {
     "data": {
      "text/plain": "('Bob', ['dev', 'mgr'])"
     },
     "execution_count": 41,
     "metadata": {},
     "output_type": "execute_result"
    }
   ],
   "source": [
    "d['name'], d['jobs']    # Access by key too"
   ],
   "metadata": {
    "collapsed": false
   }
  },
  {
   "cell_type": "code",
   "execution_count": 42,
   "outputs": [
    {
     "data": {
      "text/plain": "OrderedDict([('name', 'Bob'), ('age', 40.5), ('jobs', ['dev', 'mgr'])])"
     },
     "execution_count": 42,
     "metadata": {},
     "output_type": "execute_result"
    }
   ],
   "source": [
    "d"
   ],
   "metadata": {
    "collapsed": false
   }
  },
  {
   "cell_type": "markdown",
   "source": [
    "如你所见，命名元组是元组/类/字典的混合体。他们也代表了一个经典的权衡。为了他们的额外实用性，他们需要额外的代码（前面的例子中的两行启动代码，导入类型和创建类），并且为了实现这种魔术而付出一些性能成本。（简单来说，命名元组构建新的类，扩展了元组类型，为每个命名字段插入一个属性访问器方法，将名字映射到其位置——这是一种依赖于我们将在第八部分探索的高级主题的技术，并且使用格式化的代码字符串，而不是像装饰器和元类这样的类注解工具。）尽管如此，当需要额外的实用性时，命名元组是我们可以在元组等内建类型之上构建的自定义数据类型的一个好例子，"
   ],
   "metadata": {
    "collapsed": false
   }
  },
  {
   "cell_type": "markdown",
   "source": [
    "然而，作为一个快速预览，元组和命名元组都支持解包元组赋值（注意这里的位置初始值：命名元组按名称，位置，或两者都接受）："
   ],
   "metadata": {
    "collapsed": false
   }
  },
  {
   "cell_type": "code",
   "execution_count": 43,
   "outputs": [],
   "source": [
    "bob = Rec('Bob', 40.5, ['dev', 'mgr'])      # For both tuples and named tuples"
   ],
   "metadata": {
    "collapsed": false
   }
  },
  {
   "cell_type": "code",
   "execution_count": 44,
   "outputs": [],
   "source": [
    "name, age, jobs = bob       # Tuple assignment"
   ],
   "metadata": {
    "collapsed": false
   }
  },
  {
   "cell_type": "code",
   "execution_count": 45,
   "outputs": [
    {
     "data": {
      "text/plain": "('Bob', ['dev', 'mgr'])"
     },
     "execution_count": 45,
     "metadata": {},
     "output_type": "execute_result"
    }
   ],
   "source": [
    "name, jobs"
   ],
   "metadata": {
    "collapsed": false
   }
  },
  {
   "cell_type": "code",
   "execution_count": 46,
   "outputs": [
    {
     "name": "stdout",
     "output_type": "stream",
     "text": [
      "Bob\n",
      "40.5\n",
      "['dev', 'mgr']\n"
     ]
    }
   ],
   "source": [
    "for x in bob:       # Iteration context\n",
    "    print(x)"
   ],
   "metadata": {
    "collapsed": false
   }
  },
  {
   "cell_type": "markdown",
   "source": [
    "元组解包赋值并不完全适用于字典，除非获取并转换键和值，并对它们施加或假定一个位置排序（字典不是序列），并且迭代步骤通过键，而不是值（注意这里的字典字面形式：dict的替代方法）："
   ],
   "metadata": {
    "collapsed": false
   }
  },
  {
   "cell_type": "code",
   "execution_count": 47,
   "outputs": [],
   "source": [
    "bob = {'name': 'Bob', 'age': 40.5, 'jobs': ['dev', 'mgr']}"
   ],
   "metadata": {
    "collapsed": false
   }
  },
  {
   "cell_type": "code",
   "execution_count": 48,
   "outputs": [],
   "source": [
    "name, age, job = bob.values()       # Dict equivalent (but order may vary)"
   ],
   "metadata": {
    "collapsed": false
   }
  },
  {
   "cell_type": "code",
   "execution_count": 49,
   "outputs": [
    {
     "data": {
      "text/plain": "('Bob', ['dev', 'mgr'])"
     },
     "execution_count": 49,
     "metadata": {},
     "output_type": "execute_result"
    }
   ],
   "source": [
    "name, job"
   ],
   "metadata": {
    "collapsed": false
   }
  },
  {
   "cell_type": "code",
   "execution_count": 50,
   "outputs": [
    {
     "name": "stdout",
     "output_type": "stream",
     "text": [
      "Bob\n",
      "40.5\n",
      "['dev', 'mgr']\n"
     ]
    }
   ],
   "source": [
    "for x in bob: print(bob[x])     # Step though keys, index values"
   ],
   "metadata": {
    "collapsed": false
   }
  },
  {
   "cell_type": "code",
   "execution_count": 51,
   "outputs": [
    {
     "name": "stdout",
     "output_type": "stream",
     "text": [
      "Bob\n",
      "40.5\n",
      "['dev', 'mgr']\n"
     ]
    }
   ],
   "source": [
    "for x in bob.values(): print(x)     # Step though values view"
   ],
   "metadata": {
    "collapsed": false
   }
  },
  {
   "cell_type": "markdown",
   "source": [
    "# 文件（Files）\n",
    "文件就是计算机中由操作系统管理的存储区域。通过Python的open方法可以创建一个文件对象，该对象会链接到机器上的文件。此外，与普通的核心类型（比如数字，序列或映射）不同，文件对象由内置函数创建，并且表达式运算符对它们无效，只会导出常见文件处理任务的方法。大多数文件方法都与执行来自与文件对象关联的外部文件的输入和输出有关，但是其他文件方法允许我们搜索文件中的新位置，刷新输出缓冲区，等等。"
   ],
   "metadata": {
    "collapsed": false
   }
  },
  {
   "cell_type": "markdown",
   "source": [
    "## 文件中存储Python对象：转换\n",
    "示例：向文本文件的多行中写入不同的Python对象。注意，必须使用转换工具将这些对象转换为字符串。再说一遍，文件数据总是字符串形式，write方法为我们做任何的自动转字符串操作："
   ],
   "metadata": {
    "collapsed": false
   }
  },
  {
   "cell_type": "code",
   "execution_count": 52,
   "outputs": [],
   "source": [
    "X, Y, Z = 43, 44, 45"
   ],
   "metadata": {
    "collapsed": false
   }
  },
  {
   "cell_type": "code",
   "execution_count": 53,
   "outputs": [],
   "source": [
    "S = 'Spam'      # Must be strings to store in file"
   ],
   "metadata": {
    "collapsed": false
   }
  },
  {
   "cell_type": "code",
   "execution_count": 54,
   "outputs": [],
   "source": [
    "D = {'a': 1, 'b': 2}"
   ],
   "metadata": {
    "collapsed": false
   }
  },
  {
   "cell_type": "code",
   "execution_count": 55,
   "outputs": [],
   "source": [
    "L = [1, 2, 3]"
   ],
   "metadata": {
    "collapsed": false
   }
  },
  {
   "cell_type": "code",
   "execution_count": 56,
   "outputs": [],
   "source": [
    "F = open('datafile.txt', 'w')       # Create output text file"
   ],
   "metadata": {
    "collapsed": false
   }
  },
  {
   "cell_type": "code",
   "execution_count": 57,
   "outputs": [
    {
     "data": {
      "text/plain": "5"
     },
     "execution_count": 57,
     "metadata": {},
     "output_type": "execute_result"
    }
   ],
   "source": [
    "F.write(S + '\\n')       # Terminate lines with \\n"
   ],
   "metadata": {
    "collapsed": false
   }
  },
  {
   "cell_type": "code",
   "execution_count": 58,
   "outputs": [
    {
     "data": {
      "text/plain": "9"
     },
     "execution_count": 58,
     "metadata": {},
     "output_type": "execute_result"
    }
   ],
   "source": [
    "F.write('%s,%s,%s\\n' % (X, Y, Z))       # Convert numbers to strings"
   ],
   "metadata": {
    "collapsed": false
   }
  },
  {
   "cell_type": "code",
   "execution_count": 59,
   "outputs": [
    {
     "data": {
      "text/plain": "27"
     },
     "execution_count": 59,
     "metadata": {},
     "output_type": "execute_result"
    }
   ],
   "source": [
    "F.write(str(L) + '$' + str(D) + '\\n')   # Convert and separate with $"
   ],
   "metadata": {
    "collapsed": false
   }
  },
  {
   "cell_type": "code",
   "execution_count": 60,
   "outputs": [],
   "source": [
    "F.close()"
   ],
   "metadata": {
    "collapsed": false
   }
  },
  {
   "cell_type": "markdown",
   "source": [
    "一旦创建了文件，我们就可以打开它，读取其内容。注意，print方法会将换行符渲染为对用户更友好的展示形式："
   ],
   "metadata": {
    "collapsed": false
   }
  },
  {
   "cell_type": "code",
   "execution_count": 61,
   "outputs": [],
   "source": [
    "chars = open('datafile.txt').read()     # Raw string display"
   ],
   "metadata": {
    "collapsed": false
   }
  },
  {
   "cell_type": "code",
   "execution_count": 62,
   "outputs": [
    {
     "data": {
      "text/plain": "\"Spam\\n43,44,45\\n[1, 2, 3]${'a': 1, 'b': 2}\\n\""
     },
     "execution_count": 62,
     "metadata": {},
     "output_type": "execute_result"
    }
   ],
   "source": [
    "chars"
   ],
   "metadata": {
    "collapsed": false
   }
  },
  {
   "cell_type": "code",
   "execution_count": 63,
   "outputs": [
    {
     "name": "stdout",
     "output_type": "stream",
     "text": [
      "Spam\n",
      "43,44,45\n",
      "[1, 2, 3]${'a': 1, 'b': 2}\n",
      "\n"
     ]
    }
   ],
   "source": [
    "print(chars)        # User-friendly display"
   ],
   "metadata": {
    "collapsed": false
   }
  },
  {
   "cell_type": "markdown",
   "source": [
    "接下来，我们将使用其他在字符串和Python对象之间互转。Python永远不会自动将字符串转换为数字或其他对象类型，所以如果需要，我们需要自己手动转换："
   ],
   "metadata": {
    "collapsed": false
   }
  },
  {
   "cell_type": "code",
   "execution_count": 64,
   "outputs": [],
   "source": [
    "F = open('datafile.txt')"
   ],
   "metadata": {
    "collapsed": false
   }
  },
  {
   "cell_type": "code",
   "execution_count": 65,
   "outputs": [],
   "source": [
    "line = F.readline()"
   ],
   "metadata": {
    "collapsed": false
   }
  },
  {
   "cell_type": "code",
   "execution_count": 66,
   "outputs": [
    {
     "data": {
      "text/plain": "'Spam\\n'"
     },
     "execution_count": 66,
     "metadata": {},
     "output_type": "execute_result"
    }
   ],
   "source": [
    "line"
   ],
   "metadata": {
    "collapsed": false
   }
  },
  {
   "cell_type": "code",
   "execution_count": 67,
   "outputs": [
    {
     "data": {
      "text/plain": "'Spam'"
     },
     "execution_count": 67,
     "metadata": {},
     "output_type": "execute_result"
    }
   ],
   "source": [
    "line.rstrip()       # Remove end-of-line"
   ],
   "metadata": {
    "collapsed": false
   }
  },
  {
   "cell_type": "code",
   "execution_count": 68,
   "outputs": [],
   "source": [
    "line = F.readline()     # Read next line from file"
   ],
   "metadata": {
    "collapsed": false
   }
  },
  {
   "cell_type": "code",
   "execution_count": 69,
   "outputs": [
    {
     "data": {
      "text/plain": "'43,44,45\\n'"
     },
     "execution_count": 69,
     "metadata": {},
     "output_type": "execute_result"
    }
   ],
   "source": [
    "line"
   ],
   "metadata": {
    "collapsed": false
   }
  },
  {
   "cell_type": "code",
   "execution_count": 70,
   "outputs": [],
   "source": [
    "parts = line.split(',')     # Split (parse) on commas"
   ],
   "metadata": {
    "collapsed": false
   }
  },
  {
   "cell_type": "code",
   "execution_count": 71,
   "outputs": [
    {
     "data": {
      "text/plain": "['43', '44', '45\\n']"
     },
     "execution_count": 71,
     "metadata": {},
     "output_type": "execute_result"
    }
   ],
   "source": [
    "parts"
   ],
   "metadata": {
    "collapsed": false
   }
  },
  {
   "cell_type": "markdown",
   "source": [
    "如果我们希望对上面返回的数字字符串做数学运算的话，需要将其转换为数字："
   ],
   "metadata": {
    "collapsed": false
   }
  },
  {
   "cell_type": "code",
   "execution_count": 72,
   "outputs": [
    {
     "data": {
      "text/plain": "44"
     },
     "execution_count": 72,
     "metadata": {},
     "output_type": "execute_result"
    }
   ],
   "source": [
    "int(parts[1])   # Convert from string to int"
   ],
   "metadata": {
    "collapsed": false
   }
  },
  {
   "cell_type": "code",
   "execution_count": 73,
   "outputs": [],
   "source": [
    "numbers = [int(P) for P in parts]   # Conver all in list at once"
   ],
   "metadata": {
    "collapsed": false
   }
  },
  {
   "cell_type": "code",
   "execution_count": 74,
   "outputs": [
    {
     "data": {
      "text/plain": "[43, 44, 45]"
     },
     "execution_count": 74,
     "metadata": {},
     "output_type": "execute_result"
    }
   ],
   "source": [
    "numbers"
   ],
   "metadata": {
    "collapsed": false
   }
  },
  {
   "cell_type": "markdown",
   "source": [
    "最后，为了转换文件中第三行存储的列表和字典，我们需要用到一个叫做eval的内置函数，该函数可以将字符串看作一块可执行的程序代码（从技术上来说，是包含Python表达式的字符串）："
   ],
   "metadata": {
    "collapsed": false
   }
  },
  {
   "cell_type": "code",
   "execution_count": 75,
   "outputs": [],
   "source": [
    "line = F.readline()"
   ],
   "metadata": {
    "collapsed": false
   }
  },
  {
   "cell_type": "code",
   "execution_count": 76,
   "outputs": [
    {
     "data": {
      "text/plain": "\"[1, 2, 3]${'a': 1, 'b': 2}\\n\""
     },
     "execution_count": 76,
     "metadata": {},
     "output_type": "execute_result"
    }
   ],
   "source": [
    "line"
   ],
   "metadata": {
    "collapsed": false
   }
  },
  {
   "cell_type": "code",
   "execution_count": 77,
   "outputs": [],
   "source": [
    "parts = line.split('$')     # Split (parse) on $"
   ],
   "metadata": {
    "collapsed": false
   }
  },
  {
   "cell_type": "code",
   "execution_count": 78,
   "outputs": [
    {
     "data": {
      "text/plain": "['[1, 2, 3]', \"{'a': 1, 'b': 2}\\n\"]"
     },
     "execution_count": 78,
     "metadata": {},
     "output_type": "execute_result"
    }
   ],
   "source": [
    "parts"
   ],
   "metadata": {
    "collapsed": false
   }
  },
  {
   "cell_type": "code",
   "execution_count": 79,
   "outputs": [
    {
     "data": {
      "text/plain": "[1, 2, 3]"
     },
     "execution_count": 79,
     "metadata": {},
     "output_type": "execute_result"
    }
   ],
   "source": [
    "eval(parts[0])      # Convert to any object type"
   ],
   "metadata": {
    "collapsed": false
   }
  },
  {
   "cell_type": "code",
   "execution_count": 80,
   "outputs": [],
   "source": [
    "objects = [eval(P) for P in parts]"
   ],
   "metadata": {
    "collapsed": false
   }
  },
  {
   "cell_type": "code",
   "execution_count": 81,
   "outputs": [
    {
     "data": {
      "text/plain": "[[1, 2, 3], {'a': 1, 'b': 2}]"
     },
     "execution_count": 81,
     "metadata": {},
     "output_type": "execute_result"
    }
   ],
   "source": [
    "objects"
   ],
   "metadata": {
    "collapsed": false
   }
  },
  {
   "cell_type": "markdown",
   "source": [
    "## 存储原生Python对象：pickle\n",
    "如前面代码所示，使用 eval 将字符串转换为对象是一种强大的工具。事实上，有时它太强大了。eval会乐意运行任何Python表达式——甚至可能删除计算机上的所有文件，前提是具有必要的权限！如果你真的想在文件中存储原生Python对象，但不能信任文件数据的来源，Python的标准库pickle模块是理想的选择。\n",
    "\n",
    "pickle模块是一个更高级的工具，它允许我们直接在文件中存储几乎任何Python对象，而无需我们进行任何字符串到对象或对象到字符串的转换。它就像一个超级通用的数据格式化和解析工具。例如，要将字典存储在文件中，我们直接pickle它："
   ],
   "metadata": {
    "collapsed": false
   }
  },
  {
   "cell_type": "code",
   "execution_count": 82,
   "outputs": [],
   "source": [
    "D = {'a': 1, 'b': 2}"
   ],
   "metadata": {
    "collapsed": false
   }
  },
  {
   "cell_type": "code",
   "execution_count": 83,
   "outputs": [],
   "source": [
    "F = open('datafile.pkl', 'wb')"
   ],
   "metadata": {
    "collapsed": false
   }
  },
  {
   "cell_type": "code",
   "execution_count": 84,
   "outputs": [],
   "source": [
    "import pickle"
   ],
   "metadata": {
    "collapsed": false
   }
  },
  {
   "cell_type": "code",
   "execution_count": 85,
   "outputs": [],
   "source": [
    "pickle.dump(D, F)       # Pickle any object to file"
   ],
   "metadata": {
    "collapsed": false
   }
  },
  {
   "cell_type": "code",
   "execution_count": 86,
   "outputs": [],
   "source": [
    "F.close()"
   ],
   "metadata": {
    "collapsed": false
   }
  },
  {
   "cell_type": "markdown",
   "source": [
    "将字典数据存如pickle文件后，可以使用其load方法再次加载回来："
   ],
   "metadata": {
    "collapsed": false
   }
  },
  {
   "cell_type": "code",
   "execution_count": 87,
   "outputs": [],
   "source": [
    "F = open('datafile.pkl', 'rb')"
   ],
   "metadata": {
    "collapsed": false
   }
  },
  {
   "cell_type": "code",
   "execution_count": 88,
   "outputs": [],
   "source": [
    "E = pickle.load(F)      # Load any object from file"
   ],
   "metadata": {
    "collapsed": false
   }
  },
  {
   "cell_type": "code",
   "execution_count": 89,
   "outputs": [
    {
     "data": {
      "text/plain": "{'a': 1, 'b': 2}"
     },
     "execution_count": 89,
     "metadata": {},
     "output_type": "execute_result"
    }
   ],
   "source": [
    "E"
   ],
   "metadata": {
    "collapsed": false
   }
  },
  {
   "cell_type": "code",
   "execution_count": null,
   "outputs": [],
   "source": [],
   "metadata": {
    "collapsed": false
   }
  }
 ],
 "metadata": {
  "kernelspec": {
   "display_name": "Python 3",
   "language": "python",
   "name": "python3"
  },
  "language_info": {
   "codemirror_mode": {
    "name": "ipython",
    "version": 2
   },
   "file_extension": ".py",
   "mimetype": "text/x-python",
   "name": "python",
   "nbconvert_exporter": "python",
   "pygments_lexer": "ipython2",
   "version": "2.7.6"
  }
 },
 "nbformat": 4,
 "nbformat_minor": 0
}
