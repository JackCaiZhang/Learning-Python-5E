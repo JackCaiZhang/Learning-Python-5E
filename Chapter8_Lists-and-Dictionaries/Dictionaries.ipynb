{
 "cells": [
  {
   "cell_type": "markdown",
   "source": [
    "除了列表，字典是Python中最灵活的内置数据类型之一。如果你把列表看作是有序的对象集合，那么你可以把字典看作是无序的集合；主要区别在于，在字典中，项是通过键存储和获取的，而不是通过位置偏移。虽然列表可以扮演其他语言中的数组的角色，但字典却可以代替记录、搜索表以及任何其他名称比位置更有意义的聚合。"
   ],
   "metadata": {
    "collapsed": false
   }
  },
  {
   "cell_type": "markdown",
   "source": [
    "Python字典的主要属性如下：\n",
    "\n",
    "* **通过键而不是偏移位置访问**\n",
    "字典有时被称为关联数组或哈希（特别是其他脚本语言的用户）。它们将一组值与键关联，因此你可以使用你最初存储它的键从字典中获取一个项。你在字典中获取组件的索引操作与在列表中的操作相同，但索引采用的是键的形式，而不是相对偏移量。\n",
    "\n",
    "* **任意对象类型的无序集合**\n",
    "与列表中存储的项不同，字典中存储的项没有任何特定的顺序；实际上，Python会将它们的从左到右的顺序进行伪随机化，以提供快速查找。键提供了字典中项的符号（而非物理）位置。\n",
    "\n",
    "- **可变长度，异质，可任意嵌套**\n",
    "像列表一样，字典可以就地增长和缩小（不需要创建新的副本），它们可以包含任何类型的对象，并支持到任何深度的嵌套（比如可以包含列表，其他字典等）。每个键只能有一个关联的值，但如果需要，该值可以是多个对象的集合，并且给定的值可以存储在任何数量的键下。\n",
    "\n",
    "- **“可变映射”类别**\n",
    "你可以通过分配索引来更改字典（它们是可变的），但它们不支持在字符串和列表上工作的序列操作。因为字典是无序的集合，所以依赖于固定的位置顺序（例如，串联，切片）的操作没有意义。相反，字典是映射类别的唯一内置的、核心类型的代表——将键映射到值的对象。Python中的其他映射是由导入的模块创建的。\n",
    "\n",
    "- **对象引用的表（哈希表）**\n",
    "如果说列表是支持按位置访问的对象引用的数组，那么字典就是支持按键访问的对象引用的无序表。在内部，字典被实现为哈希表（支持非常快速检索的数据结构），这些哈希表开始时很小，但可以根据需求增长。此外，Python使用优化的哈希算法来查找键，所以检索很快。像列表一样，字典存储对象引用（不是副本，除非你明确要求）。"
   ],
   "metadata": {
    "collapsed": false
   }
  },
  {
   "cell_type": "markdown",
   "source": [
    "## 基础的字典操作（Basic Dictionary Operations）\n",
    "在常规操作中，你可以使用字面量来创建字典，并通过索引使用键来存储和访问项目："
   ],
   "metadata": {
    "collapsed": false
   }
  },
  {
   "cell_type": "code",
   "execution_count": 1,
   "outputs": [],
   "source": [
    "D = {'spam': 2, 'ham': 1, 'eggs': 3}    # Make a dictionary"
   ],
   "metadata": {
    "collapsed": false
   }
  },
  {
   "cell_type": "code",
   "execution_count": 2,
   "outputs": [
    {
     "data": {
      "text/plain": "2"
     },
     "execution_count": 2,
     "metadata": {},
     "output_type": "execute_result"
    }
   ],
   "source": [
    "D['spam']   # Fetch a value by key"
   ],
   "metadata": {
    "collapsed": false
   }
  },
  {
   "cell_type": "code",
   "execution_count": 3,
   "outputs": [
    {
     "data": {
      "text/plain": "{'spam': 2, 'ham': 1, 'eggs': 3}"
     },
     "execution_count": 3,
     "metadata": {},
     "output_type": "execute_result"
    }
   ],
   "source": [
    "D       # Order is \"scrambled\""
   ],
   "metadata": {
    "collapsed": false
   }
  },
  {
   "cell_type": "markdown",
   "source": [
    "内置的 len 函数也适用于字典；它返回存储在字典中的项目数量，或者等效地，它返回键列表的长度。字典的成员运算符 in 允许你测试键是否存在，keys 方法返回字典中的所有键。后者可以用于顺序处理字典，但是你不应该依赖键列表的顺序。因为 keys 的结果可以被当做普通的列表使用，所以如果顺序很重要，它总是可以排序的："
   ],
   "metadata": {
    "collapsed": false
   }
  },
  {
   "cell_type": "code",
   "execution_count": 4,
   "outputs": [
    {
     "data": {
      "text/plain": "3"
     },
     "execution_count": 4,
     "metadata": {},
     "output_type": "execute_result"
    }
   ],
   "source": [
    "len(D)      # Number of entries in dictionary"
   ],
   "metadata": {
    "collapsed": false
   }
  },
  {
   "cell_type": "code",
   "execution_count": 5,
   "outputs": [
    {
     "data": {
      "text/plain": "True"
     },
     "execution_count": 5,
     "metadata": {},
     "output_type": "execute_result"
    }
   ],
   "source": [
    "'ham' in D      # Key membership test alternative"
   ],
   "metadata": {
    "collapsed": false
   }
  },
  {
   "cell_type": "code",
   "execution_count": 6,
   "outputs": [
    {
     "data": {
      "text/plain": "['spam', 'ham', 'eggs']"
     },
     "execution_count": 6,
     "metadata": {},
     "output_type": "execute_result"
    }
   ],
   "source": [
    "list(D.keys())      # Create a new list of D's keys"
   ],
   "metadata": {
    "collapsed": false
   }
  },
  {
   "cell_type": "markdown",
   "source": [
    "### 就地修改字典（Changing Dictionaries in Place）\n",
    "字典，就像列表一样，是可变的，所以你可以更改、扩展和缩减它们，而无需制作新的字典：简单地将一个值分配给一个键，以更改或创建一个条目。这里的 del 语句也有作用；它删除与指定为索引的键相关联的条目。此外，也注意到在此示例中字典内部嵌套了一个列表（键 'ham' 的值）。在 Python 中，所有集合数据类型都可以任意地相互嵌套："
   ],
   "metadata": {
    "collapsed": false
   }
  },
  {
   "cell_type": "code",
   "execution_count": 7,
   "outputs": [
    {
     "data": {
      "text/plain": "{'spam': 2, 'ham': 1, 'eggs': 3}"
     },
     "execution_count": 7,
     "metadata": {},
     "output_type": "execute_result"
    }
   ],
   "source": [
    "D"
   ],
   "metadata": {
    "collapsed": false
   }
  },
  {
   "cell_type": "code",
   "execution_count": 8,
   "outputs": [],
   "source": [
    "D['ham'] = ['grill', 'bake', 'fry']     # Change entry (value=list)"
   ],
   "metadata": {
    "collapsed": false
   }
  },
  {
   "cell_type": "code",
   "execution_count": 9,
   "outputs": [
    {
     "data": {
      "text/plain": "{'spam': 2, 'ham': ['grill', 'bake', 'fry'], 'eggs': 3}"
     },
     "execution_count": 9,
     "metadata": {},
     "output_type": "execute_result"
    }
   ],
   "source": [
    "D"
   ],
   "metadata": {
    "collapsed": false
   }
  },
  {
   "cell_type": "code",
   "execution_count": 10,
   "outputs": [],
   "source": [
    "del D['eggs']   # Delete entry"
   ],
   "metadata": {
    "collapsed": false
   }
  },
  {
   "cell_type": "code",
   "execution_count": 11,
   "outputs": [
    {
     "data": {
      "text/plain": "{'spam': 2, 'ham': ['grill', 'bake', 'fry']}"
     },
     "execution_count": 11,
     "metadata": {},
     "output_type": "execute_result"
    }
   ],
   "source": [
    "D"
   ],
   "metadata": {
    "collapsed": false
   }
  },
  {
   "cell_type": "code",
   "execution_count": 12,
   "outputs": [],
   "source": [
    "D['brunch'] = 'Bacon'   # Add new entry"
   ],
   "metadata": {
    "collapsed": false
   }
  },
  {
   "cell_type": "code",
   "execution_count": 13,
   "outputs": [
    {
     "data": {
      "text/plain": "{'spam': 2, 'ham': ['grill', 'bake', 'fry'], 'brunch': 'Bacon'}"
     },
     "execution_count": 13,
     "metadata": {},
     "output_type": "execute_result"
    }
   ],
   "source": [
    "D"
   ],
   "metadata": {
    "collapsed": false
   }
  },
  {
   "cell_type": "markdown",
   "source": [
    "像列表一样，对字典中的现有索引进行赋值会改变其关联的值。然而，与列表不同的是，每当你为字典分配一个新的键（之前没有被分配过的键）时，你就会在字典中创建一个新的条目，就像前面的例子中为键'brunch'所做的那样。这对列表来说并不适用，因为你只能给列表的现有偏移量赋值——Python认为超出列表末尾的偏移量超出了范围并会引发错误。要扩展列表，你需要使用诸如append方法或切片赋值等工具。"
   ],
   "metadata": {
    "collapsed": false
   }
  },
  {
   "cell_type": "markdown",
   "source": [
    "### 更多的字典方法\n",
    "字典方法提供了多种特定类型的工具。例如，字典的values和items方法分别返回字典的所有值和（键，值）对元组；与keys一样，这些在需要逐个遍历字典条目的循环中都很有用。对于keys，这两种方法在3.X中也返回可迭代的对象，所以需要用list方法来包裹这些值以便显示："
   ],
   "metadata": {
    "collapsed": false
   }
  },
  {
   "cell_type": "code",
   "execution_count": 14,
   "outputs": [],
   "source": [
    "D = {'spam': 2, 'ham': 1, 'eggs': 3}"
   ],
   "metadata": {
    "collapsed": false
   }
  },
  {
   "cell_type": "code",
   "execution_count": 15,
   "outputs": [
    {
     "data": {
      "text/plain": "[2, 1, 3]"
     },
     "execution_count": 15,
     "metadata": {},
     "output_type": "execute_result"
    }
   ],
   "source": [
    "list(D.values())"
   ],
   "metadata": {
    "collapsed": false
   }
  },
  {
   "cell_type": "code",
   "execution_count": 16,
   "outputs": [
    {
     "data": {
      "text/plain": "[('spam', 2), ('ham', 1), ('eggs', 3)]"
     },
     "execution_count": 16,
     "metadata": {},
     "output_type": "execute_result"
    }
   ],
   "source": [
    "list(D.items())"
   ],
   "metadata": {
    "collapsed": false
   }
  },
  {
   "cell_type": "markdown",
   "source": [
    "在实际的程序中，它们在运行时收集数据，在程序启动之前你往往无法预测字典中会有什么，更不用说在编码时。获取不存在的键通常是一个错误，但get方法返回一个默认值——如果键不存在，返回None，或者一个传入的默认值。这是一个很简单的方式来为不存在的键填充默认值，并在你的程序无法提前预测内容时避免出现缺失键的错误："
   ],
   "metadata": {
    "collapsed": false
   }
  },
  {
   "cell_type": "code",
   "execution_count": 17,
   "outputs": [
    {
     "data": {
      "text/plain": "2"
     },
     "execution_count": 17,
     "metadata": {},
     "output_type": "execute_result"
    }
   ],
   "source": [
    "D.get('spam')   # A key that is there"
   ],
   "metadata": {
    "collapsed": false
   }
  },
  {
   "cell_type": "code",
   "execution_count": 18,
   "outputs": [
    {
     "name": "stdout",
     "output_type": "stream",
     "text": [
      "None\n"
     ]
    }
   ],
   "source": [
    "print(D.get('toast'))   # A key that is missing"
   ],
   "metadata": {
    "collapsed": false
   }
  },
  {
   "cell_type": "code",
   "execution_count": 19,
   "outputs": [
    {
     "data": {
      "text/plain": "88"
     },
     "execution_count": 19,
     "metadata": {},
     "output_type": "execute_result"
    }
   ],
   "source": [
    "D.get('toast', 88)"
   ],
   "metadata": {
    "collapsed": false
   }
  },
  {
   "cell_type": "markdown",
   "source": [
    "update方法为字典提供了类似于连接的功能，尽管它与从左到右的顺序无关（再次强调，字典中没有这样的东西）。它将一个字典的键和值合并到另一个字典中，如果有冲突，会盲目地覆盖相同键的值："
   ],
   "metadata": {
    "collapsed": false
   }
  },
  {
   "cell_type": "code",
   "execution_count": 20,
   "outputs": [
    {
     "data": {
      "text/plain": "{'spam': 2, 'ham': 1, 'eggs': 3}"
     },
     "execution_count": 20,
     "metadata": {},
     "output_type": "execute_result"
    }
   ],
   "source": [
    "D"
   ],
   "metadata": {
    "collapsed": false
   }
  },
  {
   "cell_type": "code",
   "execution_count": 21,
   "outputs": [],
   "source": [
    "D2 = {'toast': 4, 'muffin': 5}      # Lots of delicious scrambled order here"
   ],
   "metadata": {
    "collapsed": false
   }
  },
  {
   "cell_type": "code",
   "execution_count": 22,
   "outputs": [],
   "source": [
    "D.update(D2)"
   ],
   "metadata": {
    "collapsed": false
   }
  },
  {
   "cell_type": "code",
   "execution_count": 23,
   "outputs": [
    {
     "data": {
      "text/plain": "{'spam': 2, 'ham': 1, 'eggs': 3, 'toast': 4, 'muffin': 5}"
     },
     "execution_count": 23,
     "metadata": {},
     "output_type": "execute_result"
    }
   ],
   "source": [
    "D"
   ],
   "metadata": {
    "collapsed": false
   }
  },
  {
   "cell_type": "markdown",
   "source": [
    "最后，字典的pop方法从字典中删除一个键并返回它的值。它类似于列表的pop方法，但它需要一个键而不是一个可选的位置："
   ],
   "metadata": {
    "collapsed": false
   }
  },
  {
   "cell_type": "code",
   "execution_count": 24,
   "outputs": [
    {
     "data": {
      "text/plain": "{'spam': 2, 'ham': 1, 'eggs': 3, 'toast': 4, 'muffin': 5}"
     },
     "execution_count": 24,
     "metadata": {},
     "output_type": "execute_result"
    }
   ],
   "source": [
    "D"
   ],
   "metadata": {
    "collapsed": false
   }
  },
  {
   "cell_type": "code",
   "execution_count": 25,
   "outputs": [
    {
     "data": {
      "text/plain": "5"
     },
     "execution_count": 25,
     "metadata": {},
     "output_type": "execute_result"
    }
   ],
   "source": [
    "D.pop('muffin')"
   ],
   "metadata": {
    "collapsed": false
   }
  },
  {
   "cell_type": "code",
   "execution_count": 26,
   "outputs": [
    {
     "data": {
      "text/plain": "4"
     },
     "execution_count": 26,
     "metadata": {},
     "output_type": "execute_result"
    }
   ],
   "source": [
    "D.pop('toast')      # Delete and return from a key"
   ],
   "metadata": {
    "collapsed": false
   }
  },
  {
   "cell_type": "code",
   "execution_count": 27,
   "outputs": [
    {
     "data": {
      "text/plain": "{'spam': 2, 'ham': 1, 'eggs': 3}"
     },
     "execution_count": 27,
     "metadata": {},
     "output_type": "execute_result"
    }
   ],
   "source": [
    "D"
   ],
   "metadata": {
    "collapsed": false
   }
  },
  {
   "cell_type": "markdown",
   "source": [
    "根据位置从列表中删除元素："
   ],
   "metadata": {
    "collapsed": false
   }
  },
  {
   "cell_type": "code",
   "execution_count": 28,
   "outputs": [],
   "source": [
    "L = ['aa', 'bb', 'cc', 'dd']"
   ],
   "metadata": {
    "collapsed": false
   }
  },
  {
   "cell_type": "code",
   "execution_count": 29,
   "outputs": [
    {
     "data": {
      "text/plain": "'dd'"
     },
     "execution_count": 29,
     "metadata": {},
     "output_type": "execute_result"
    }
   ],
   "source": [
    "L.pop()     # Delete and return from the end"
   ],
   "metadata": {
    "collapsed": false
   }
  },
  {
   "cell_type": "code",
   "execution_count": 30,
   "outputs": [
    {
     "data": {
      "text/plain": "['aa', 'bb', 'cc']"
     },
     "execution_count": 30,
     "metadata": {},
     "output_type": "execute_result"
    }
   ],
   "source": [
    "L"
   ],
   "metadata": {
    "collapsed": false
   }
  },
  {
   "cell_type": "code",
   "execution_count": 31,
   "outputs": [
    {
     "data": {
      "text/plain": "'bb'"
     },
     "execution_count": 31,
     "metadata": {},
     "output_type": "execute_result"
    }
   ],
   "source": [
    "L.pop(1)    # Delete from a specific position"
   ],
   "metadata": {
    "collapsed": false
   }
  },
  {
   "cell_type": "code",
   "execution_count": 32,
   "outputs": [
    {
     "data": {
      "text/plain": "['aa', 'cc']"
     },
     "execution_count": 32,
     "metadata": {},
     "output_type": "execute_result"
    }
   ],
   "source": [
    "L"
   ],
   "metadata": {
    "collapsed": false
   }
  },
  {
   "cell_type": "markdown",
   "source": [
    "字典也提供了一个copy方法；这是一种避免对同一字典的共享引用可能产生的副作用的方式。"
   ],
   "metadata": {
    "collapsed": false
   }
  },
  {
   "cell_type": "markdown",
   "source": [
    "### 示例：电影数据库\n",
    "让我们来看一个更真实的字典示例。为了纪念Python的名字来源，以下示例创建了一个简单的内存中的 Monty Python 电影数据库，作为一个表格，将电影发行日期年份（键）映射到电影标题（值）。在代码中，你通过对发行年份字符串进行索引来获取电影名称："
   ],
   "metadata": {
    "collapsed": false
   }
  },
  {
   "cell_type": "code",
   "execution_count": 33,
   "outputs": [],
   "source": [
    "table = {'1975': 'Holy Grail',\n",
    "         '1979': 'Life of Brain',\n",
    "         '1983': 'The Meaning of Life'}"
   ],
   "metadata": {
    "collapsed": false
   }
  },
  {
   "cell_type": "code",
   "execution_count": 34,
   "outputs": [],
   "source": [
    "year = '1983'"
   ],
   "metadata": {
    "collapsed": false
   }
  },
  {
   "cell_type": "code",
   "execution_count": 35,
   "outputs": [],
   "source": [
    "movie = table[year]"
   ],
   "metadata": {
    "collapsed": false
   }
  },
  {
   "cell_type": "code",
   "execution_count": 36,
   "outputs": [
    {
     "data": {
      "text/plain": "'The Meaning of Life'"
     },
     "execution_count": 36,
     "metadata": {},
     "output_type": "execute_result"
    }
   ],
   "source": [
    "movie"
   ],
   "metadata": {
    "collapsed": false
   }
  },
  {
   "cell_type": "code",
   "execution_count": 37,
   "outputs": [
    {
     "name": "stdout",
     "output_type": "stream",
     "text": [
      "1975\tHoly Grail\n",
      "1979\tLife of Brain\n",
      "1983\tThe Meaning of Life\n"
     ]
    }
   ],
   "source": [
    "for year in table:      # Same as: for year in table.keys()\n",
    "    print(year + '\\t' + table[year])"
   ],
   "metadata": {
    "collapsed": false
   }
  },
  {
   "cell_type": "markdown",
   "source": [
    "注意到之前的表是如何将年份映射到标题的，但并没有反过来。如果你想反过来映射 —— 标题到年份 —— 你可以选择不同的方式编写字典，或者使用像items这样的方法，它们提供可搜索的序列，虽然要最好地使用它们需要我们所拥有的更多背景信息："
   ],
   "metadata": {
    "collapsed": false
   }
  },
  {
   "cell_type": "code",
   "execution_count": 38,
   "outputs": [],
   "source": [
    "table = {'Holy Grail':          '1975',\n",
    "         'Life of Brain':       '1979',\n",
    "         'The Meaning of Life': '1983'}"
   ],
   "metadata": {
    "collapsed": false
   }
  },
  {
   "cell_type": "code",
   "execution_count": 39,
   "outputs": [
    {
     "data": {
      "text/plain": "'1975'"
     },
     "execution_count": 39,
     "metadata": {},
     "output_type": "execute_result"
    }
   ],
   "source": [
    "table['Holy Grail']"
   ],
   "metadata": {
    "collapsed": false
   }
  },
  {
   "cell_type": "code",
   "execution_count": 40,
   "outputs": [
    {
     "data": {
      "text/plain": "[('Holy Grail', '1975'),\n ('Life of Brain', '1979'),\n ('The Meaning of Life', '1983')]"
     },
     "execution_count": 40,
     "metadata": {},
     "output_type": "execute_result"
    }
   ],
   "source": [
    "list(table.items())"
   ],
   "metadata": {
    "collapsed": false
   }
  },
  {
   "cell_type": "code",
   "execution_count": 41,
   "outputs": [
    {
     "data": {
      "text/plain": "['Holy Grail']"
     },
     "execution_count": 41,
     "metadata": {},
     "output_type": "execute_result"
    }
   ],
   "source": [
    "[title for (title, year) in table.items() if year == '1975']"
   ],
   "metadata": {
    "collapsed": false
   }
  },
  {
   "cell_type": "markdown",
   "source": [
    "实际上，虽然字典的本质是单向地将键映射到值，但是有多种方法可以通过一些额外的通用代码将值映射回键："
   ],
   "metadata": {
    "collapsed": false
   }
  },
  {
   "cell_type": "code",
   "execution_count": 44,
   "outputs": [],
   "source": [
    "K = 'Holy Grail'"
   ],
   "metadata": {
    "collapsed": false
   }
  },
  {
   "cell_type": "code",
   "execution_count": 45,
   "outputs": [
    {
     "data": {
      "text/plain": "'1975'"
     },
     "execution_count": 45,
     "metadata": {},
     "output_type": "execute_result"
    }
   ],
   "source": [
    "table[K]"
   ],
   "metadata": {
    "collapsed": false
   }
  },
  {
   "cell_type": "code",
   "execution_count": 46,
   "outputs": [],
   "source": [
    "V = '1975'"
   ],
   "metadata": {
    "collapsed": false
   }
  },
  {
   "cell_type": "code",
   "execution_count": 47,
   "outputs": [
    {
     "data": {
      "text/plain": "['Holy Grail']"
     },
     "execution_count": 47,
     "metadata": {},
     "output_type": "execute_result"
    }
   ],
   "source": [
    "[key for (key, value) in table.items() if value == V]"
   ],
   "metadata": {
    "collapsed": false
   }
  },
  {
   "cell_type": "code",
   "execution_count": 48,
   "outputs": [
    {
     "data": {
      "text/plain": "['Holy Grail']"
     },
     "execution_count": 48,
     "metadata": {},
     "output_type": "execute_result"
    }
   ],
   "source": [
    "[key for key in table.keys() if table[key] == V]"
   ],
   "metadata": {
    "collapsed": false
   }
  },
  {
   "cell_type": "markdown",
   "source": [
    "> 注意，最后两个命令都返回了一个标题列表：在字典中，每个键只有一个值，但每个值可能有多个键。给定的值可能会存储在多个键下（产生多个键对应一个值），并且一个值可能本身就是一个集合（支持每个键对应多个值）。"
   ],
   "metadata": {
    "collapsed": false
   }
  },
  {
   "cell_type": "markdown",
   "source": [
    "### 字典使用注意事项\n",
    "\n",
    "一旦你掌握了字典，它们就是相当直接的工具，但在使用它们时，你需要注意以下一些额外的提示和提醒：\n",
    "\n",
    "- **序列操作不起作用**。字典是映射，而不是序列；因为它们的项之间没有排序的概念，所以像连接（有序的连接）和切片（提取连续的部分）这样简单的操作就不适用。实际上，如果你尝试做这样的事情，Python在你的代码运行时会抛出错误。\n",
    "\n",
    "- **分配给新索引会添加条目**。当你编写字典字面量（嵌入在字面量本身的代码中）或当你分别分配值给现有字典对象的新键时，可以创建键。最终的结果是相同的。\n",
    "\n",
    "- **键并不总是需要是字符串**。我们迄今为止的例子中使用的是字符串作为键，但是任何其他不可变对象同样可以很好地发挥作用。例如，你可以使用整数作为键，这使得字典看起来很像列表（至少在索引时是这样）。元组也可以被用作字典的键，允许复合键值——如日期和IP地址——有关联的值。用户定义的类实例对象也可以被用作键，只要它们有适当的协议方法；大致上，他们需要告诉Python他们的值是“可散列的”，因此不会改变，否则它们作为固定的键将是无用的。可变对象如列表，集合和其他字典不能作为键，但是可以作为值。"
   ],
   "metadata": {
    "collapsed": false
   }
  },
  {
   "cell_type": "markdown",
   "source": [
    "#### 将字典用于模拟灵活的列表：整数键\n",
    "当你使用列表时，向列表末尾之外的偏移量赋值是非法的："
   ],
   "metadata": {
    "collapsed": false
   }
  },
  {
   "cell_type": "code",
   "execution_count": 49,
   "outputs": [],
   "source": [
    "L = []"
   ],
   "metadata": {
    "collapsed": false
   }
  },
  {
   "cell_type": "code",
   "execution_count": 51,
   "outputs": [
    {
     "ename": "IndexError",
     "evalue": "list assignment index out of range",
     "output_type": "error",
     "traceback": [
      "\u001B[1;31m---------------------------------------------------------------------------\u001B[0m",
      "\u001B[1;31mIndexError\u001B[0m                                Traceback (most recent call last)",
      "\u001B[1;32m<ipython-input-51-5abe3dfe7985>\u001B[0m in \u001B[0;36m<module>\u001B[1;34m()\u001B[0m\n\u001B[1;32m----> 1\u001B[1;33m \u001B[0mL\u001B[0m\u001B[1;33m[\u001B[0m\u001B[1;36m99\u001B[0m\u001B[1;33m]\u001B[0m \u001B[1;33m=\u001B[0m \u001B[1;34m'spam'\u001B[0m\u001B[1;33m\u001B[0m\u001B[0m\n\u001B[0m",
      "\u001B[1;31mIndexError\u001B[0m: list assignment index out of range"
     ]
    }
   ],
   "source": [
    "L[99] = 'spam'"
   ],
   "metadata": {
    "collapsed": false
   }
  },
  {
   "cell_type": "markdown",
   "source": [
    "虽然你可以使用重复来预先分配你需要的列表（例如，[0]*100），但你也可以用字典做类似的事情，而不需要这样的空间分配。通过使用整数键，字典可以模拟在偏移分配上似乎增长的列表："
   ],
   "metadata": {
    "collapsed": false
   }
  },
  {
   "cell_type": "code",
   "execution_count": 52,
   "outputs": [],
   "source": [
    "D = {}"
   ],
   "metadata": {
    "collapsed": false
   }
  },
  {
   "cell_type": "code",
   "execution_count": 53,
   "outputs": [],
   "source": [
    "D[99] = 'spam'"
   ],
   "metadata": {
    "collapsed": false
   }
  },
  {
   "cell_type": "code",
   "execution_count": 54,
   "outputs": [
    {
     "data": {
      "text/plain": "'spam'"
     },
     "execution_count": 54,
     "metadata": {},
     "output_type": "execute_result"
    }
   ],
   "source": [
    "D[99]"
   ],
   "metadata": {
    "collapsed": false
   }
  },
  {
   "cell_type": "code",
   "execution_count": 55,
   "outputs": [
    {
     "data": {
      "text/plain": "{99: 'spam'}"
     },
     "execution_count": 55,
     "metadata": {},
     "output_type": "execute_result"
    }
   ],
   "source": [
    "D"
   ],
   "metadata": {
    "collapsed": false
   }
  },
  {
   "cell_type": "markdown",
   "source": [
    "在这里，D看起来像是一个有100个元素的列表，但实际上它是一个字典，只有一个条目；键99的值是字符串'spam'。你可以像使用列表一样用偏移量来访问这个结构，如果需要，可以用get或in测试来捕获不存在的键，但你不需要为未来可能需要分配值的所有位置分配空间。像这样使用时，字典就像是列表的更灵活的等价物。\n",
    "\n",
    "作为另一个例子，我们也可能在之前的电影数据库代码中使用整数键，以避免引用年份，尽管这会牺牲一些表达性（键不能包含非数字字符）："
   ],
   "metadata": {
    "collapsed": false
   }
  },
  {
   "cell_type": "code",
   "execution_count": 56,
   "outputs": [],
   "source": [
    "table = {1975: 'Holy Grail',\n",
    "         1979: 'Life of Brain',\n",
    "         1983: 'The Meaning of Life'}"
   ],
   "metadata": {
    "collapsed": false
   }
  },
  {
   "cell_type": "code",
   "execution_count": 57,
   "outputs": [
    {
     "data": {
      "text/plain": "'Holy Grail'"
     },
     "execution_count": 57,
     "metadata": {},
     "output_type": "execute_result"
    }
   ],
   "source": [
    "table[1975]"
   ],
   "metadata": {
    "collapsed": false
   }
  },
  {
   "cell_type": "code",
   "execution_count": 58,
   "outputs": [
    {
     "data": {
      "text/plain": "[(1975, 'Holy Grail'), (1979, 'Life of Brain'), (1983, 'The Meaning of Life')]"
     },
     "execution_count": 58,
     "metadata": {},
     "output_type": "execute_result"
    }
   ],
   "source": [
    "list(table.items())"
   ],
   "metadata": {
    "collapsed": false
   }
  },
  {
   "cell_type": "markdown",
   "source": [
    "#### 将字典用作稀疏数据结构：元组键\n",
    "类似的方式，字典键也常常用于实现稀疏数据结构——例如，只有少数位置存储有值的多维数组："
   ],
   "metadata": {
    "collapsed": false
   }
  },
  {
   "cell_type": "code",
   "execution_count": 59,
   "outputs": [],
   "source": [
    "Matrix = {}"
   ],
   "metadata": {
    "collapsed": false
   }
  },
  {
   "cell_type": "code",
   "execution_count": 60,
   "outputs": [],
   "source": [
    "Matrix[(2, 3, 4)] = 88"
   ],
   "metadata": {
    "collapsed": false
   }
  },
  {
   "cell_type": "code",
   "execution_count": 61,
   "outputs": [],
   "source": [
    "Matrix[(7, 8, 9)] = 99"
   ],
   "metadata": {
    "collapsed": false
   }
  },
  {
   "cell_type": "code",
   "execution_count": 62,
   "outputs": [],
   "source": [
    "X = 2; Y = 3; Z = 4"
   ],
   "metadata": {
    "collapsed": false
   }
  },
  {
   "cell_type": "code",
   "execution_count": 63,
   "outputs": [
    {
     "data": {
      "text/plain": "88"
     },
     "execution_count": 63,
     "metadata": {},
     "output_type": "execute_result"
    }
   ],
   "source": [
    "Matrix[(X, Y, Z)]"
   ],
   "metadata": {
    "collapsed": false
   }
  },
  {
   "cell_type": "code",
   "execution_count": 64,
   "outputs": [
    {
     "data": {
      "text/plain": "{(2, 3, 4): 88, (7, 8, 9): 99}"
     },
     "execution_count": 64,
     "metadata": {},
     "output_type": "execute_result"
    }
   ],
   "source": [
    "Matrix"
   ],
   "metadata": {
    "collapsed": false
   }
  },
  {
   "cell_type": "markdown",
   "source": [
    "在这里，我们使用了一个字典来表示一个三维数组，除了两个位置（2,3,4）和（7,8,9）外都是空的。键是记录非空插槽坐标的元组。我们可以使用一个简单的两项字典，而不是分配一个大的且大部分空着的三维矩阵来存储这些值。在这种方案中，访问一个空插槽会触发一个不存在的键异常，因为这些插槽物理上并没有存储："
   ],
   "metadata": {
    "collapsed": false
   }
  },
  {
   "cell_type": "code",
   "execution_count": 65,
   "outputs": [
    {
     "ename": "KeyError",
     "evalue": "(2, 3, 6)",
     "output_type": "error",
     "traceback": [
      "\u001B[1;31m---------------------------------------------------------------------------\u001B[0m",
      "\u001B[1;31mKeyError\u001B[0m                                  Traceback (most recent call last)",
      "\u001B[1;32m<ipython-input-65-c997db0ba00e>\u001B[0m in \u001B[0;36m<module>\u001B[1;34m()\u001B[0m\n\u001B[1;32m----> 1\u001B[1;33m \u001B[0mMatrix\u001B[0m\u001B[1;33m[\u001B[0m\u001B[1;33m(\u001B[0m\u001B[1;36m2\u001B[0m\u001B[1;33m,\u001B[0m \u001B[1;36m3\u001B[0m\u001B[1;33m,\u001B[0m \u001B[1;36m6\u001B[0m\u001B[1;33m)\u001B[0m\u001B[1;33m]\u001B[0m\u001B[1;33m\u001B[0m\u001B[0m\n\u001B[0m",
      "\u001B[1;31mKeyError\u001B[0m: (2, 3, 6)"
     ]
    }
   ],
   "source": [
    "Matrix[(2, 3, 6)]"
   ],
   "metadata": {
    "collapsed": false
   }
  },
  {
   "cell_type": "markdown",
   "source": [
    "#### 避免缺键错误（Avoiding missing-key errors）\n",
    "在稀疏矩阵中，对不存在的键进行获取的错误很常见，但你可能不希望它们关闭你的程序。有至少三种方式可以填充默认值，而不是得到这样的错误消息——你可以在if语句中提前测试键，使用try语句明确地捕获并恢复异常，或者简单地使用前面显示的字典get方法为不存在的键提供默认值。考虑一下这两个语句语法："
   ],
   "metadata": {
    "collapsed": false
   }
  },
  {
   "cell_type": "code",
   "execution_count": 66,
   "outputs": [
    {
     "name": "stdout",
     "output_type": "stream",
     "text": [
      "0\n"
     ]
    }
   ],
   "source": [
    "if (2, 3, 6) in Matrix:\n",
    "    print(Matrix[(2, 3, 6)])\n",
    "else:\n",
    "    print(0)"
   ],
   "metadata": {
    "collapsed": false
   }
  },
  {
   "cell_type": "code",
   "execution_count": 67,
   "outputs": [
    {
     "name": "stdout",
     "output_type": "stream",
     "text": [
      "0\n"
     ]
    }
   ],
   "source": [
    "try:\n",
    "    print(Matrix[(2, 3, 6)])\n",
    "except KeyError:\n",
    "    print(0)"
   ],
   "metadata": {
    "collapsed": false
   }
  },
  {
   "cell_type": "code",
   "execution_count": 68,
   "outputs": [
    {
     "data": {
      "text/plain": "88"
     },
     "execution_count": 68,
     "metadata": {},
     "output_type": "execute_result"
    }
   ],
   "source": [
    "Matrix.get((2, 3, 4), 0)    # Exists: fetch and return"
   ],
   "metadata": {
    "collapsed": false
   }
  },
  {
   "cell_type": "code",
   "execution_count": 69,
   "outputs": [
    {
     "data": {
      "text/plain": "0"
     },
     "execution_count": 69,
     "metadata": {},
     "output_type": "execute_result"
    }
   ],
   "source": [
    "Matrix.get((2, 3, 6), 0)    # Doesn't exist: use default arg"
   ],
   "metadata": {
    "collapsed": false
   }
  },
  {
   "cell_type": "markdown",
   "source": [
    "#### 字典中的嵌套（Nesting in dictionaries）\n",
    "如你所见，字典在Python中可以扮演多种角色。总的来说，它们可以替代搜索数据结构（因为按键索引是一种搜索操作），并且可以表示许多类型的结构化信息。例如，字典是描述你的程序领域中的项目属性的许多方式之一；也就是说，它们可以起到其他语言中的“记录”或“结构”的作用。\n",
    "\n",
    "例如，下面的代码通过随着时间的推移对新键进行赋值，填充了一个描述假设人物的字典："
   ],
   "metadata": {
    "collapsed": false
   }
  },
  {
   "cell_type": "code",
   "execution_count": 70,
   "outputs": [],
   "source": [
    "rec = {}"
   ],
   "metadata": {
    "collapsed": false
   }
  },
  {
   "cell_type": "code",
   "execution_count": 71,
   "outputs": [],
   "source": [
    "rec['name'] = 'Bob'"
   ],
   "metadata": {
    "collapsed": false
   }
  },
  {
   "cell_type": "code",
   "execution_count": 72,
   "outputs": [],
   "source": [
    "rec['age'] = 40.5"
   ],
   "metadata": {
    "collapsed": false
   }
  },
  {
   "cell_type": "code",
   "execution_count": 73,
   "outputs": [],
   "source": [
    "rec['job'] = 'developer/manager'"
   ],
   "metadata": {
    "collapsed": false
   }
  },
  {
   "cell_type": "code",
   "execution_count": 74,
   "outputs": [
    {
     "name": "stdout",
     "output_type": "stream",
     "text": [
      "Bob\n"
     ]
    }
   ],
   "source": [
    "print(rec['name'])"
   ],
   "metadata": {
    "collapsed": false
   }
  },
  {
   "cell_type": "markdown",
   "source": [
    "尤其是在嵌套的情况下，Python的内置数据类型让我们能够轻松地表示结构化信息。以下再次使用字典来捕获对象属性，但是它一次性编码所有内容（而不是分别为每个键赋值），并嵌套列表和字典来表示结构化属性值："
   ],
   "metadata": {
    "collapsed": false
   }
  },
  {
   "cell_type": "code",
   "execution_count": 75,
   "outputs": [],
   "source": [
    "rec = {'name': 'Bob',\n",
    "       'jobs': ['developer', 'manager'],\n",
    "       'web': 'www.bobs.org/˜Bob',\n",
    "       'home': {'state': 'Overworked', 'zip': 12345}}"
   ],
   "metadata": {
    "collapsed": false
   }
  },
  {
   "cell_type": "markdown",
   "source": [
    "要获取嵌套对象的组件，只需结合字符串和索引操作即可："
   ],
   "metadata": {
    "collapsed": false
   }
  },
  {
   "cell_type": "code",
   "execution_count": 76,
   "outputs": [
    {
     "data": {
      "text/plain": "'Bob'"
     },
     "execution_count": 76,
     "metadata": {},
     "output_type": "execute_result"
    }
   ],
   "source": [
    "rec['name']"
   ],
   "metadata": {
    "collapsed": false
   }
  },
  {
   "cell_type": "code",
   "execution_count": 77,
   "outputs": [
    {
     "data": {
      "text/plain": "['developer', 'manager']"
     },
     "execution_count": 77,
     "metadata": {},
     "output_type": "execute_result"
    }
   ],
   "source": [
    "rec['jobs']"
   ],
   "metadata": {
    "collapsed": false
   }
  },
  {
   "cell_type": "code",
   "execution_count": 78,
   "outputs": [
    {
     "data": {
      "text/plain": "'manager'"
     },
     "execution_count": 78,
     "metadata": {},
     "output_type": "execute_result"
    }
   ],
   "source": [
    "rec['jobs'][1]"
   ],
   "metadata": {
    "collapsed": false
   }
  },
  {
   "cell_type": "code",
   "execution_count": 79,
   "outputs": [
    {
     "data": {
      "text/plain": "12345"
     },
     "execution_count": 79,
     "metadata": {},
     "output_type": "execute_result"
    }
   ],
   "source": [
    "rec['home']['zip']"
   ],
   "metadata": {
    "collapsed": false
   }
  },
  {
   "cell_type": "markdown",
   "source": [
    "另外，请注意，虽然我们在这里专注于一个带有嵌套数据的单个“记录”，但没有理由我们不能将记录本身嵌套在一个更大的、编码为列表或字典的封闭数据库集合中，尽管在真实的程序中，外部文件或正式的数据库接口通常扮演顶级容器的角色：\n",
    "\n",
    "db = []\n",
    "db.append(rec) # A list \"database\"\n",
    "db.append(other)\n",
    "db[0]['jobs']\n",
    "\n",
    "db = {}\n",
    "db['bob'] = rec # A dictionary \"database\"\n",
    "db['sue'] = other\n",
    "db['bob']['jobs']"
   ],
   "metadata": {
    "collapsed": false
   }
  },
  {
   "cell_type": "code",
   "execution_count": 80,
   "outputs": [],
   "source": [],
   "metadata": {
    "collapsed": false
   }
  }
 ],
 "metadata": {
  "kernelspec": {
   "display_name": "Python 3",
   "language": "python",
   "name": "python3"
  },
  "language_info": {
   "codemirror_mode": {
    "name": "ipython",
    "version": 2
   },
   "file_extension": ".py",
   "mimetype": "text/x-python",
   "name": "python",
   "nbconvert_exporter": "python",
   "pygments_lexer": "ipython2",
   "version": "2.7.6"
  }
 },
 "nbformat": 4,
 "nbformat_minor": 0
}
