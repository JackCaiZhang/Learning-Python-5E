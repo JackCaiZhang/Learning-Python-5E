{
 "cells": [
  {
   "cell_type": "markdown",
   "source": [
    "除了列表，字典是Python中最灵活的内置数据类型之一。如果你把列表看作是有序的对象集合，那么你可以把字典看作是无序的集合；主要区别在于，在字典中，项是通过键存储和获取的，而不是通过位置偏移。虽然列表可以扮演其他语言中的数组的角色，但字典却可以代替记录、搜索表以及任何其他名称比位置更有意义的聚合。"
   ],
   "metadata": {
    "collapsed": false
   }
  },
  {
   "cell_type": "markdown",
   "source": [
    "Python字典的主要属性如下：\n",
    "\n",
    "* **通过键而不是偏移位置访问**\n",
    "字典有时被称为关联数组或哈希（特别是其他脚本语言的用户）。它们将一组值与键关联，因此你可以使用你最初存储它的键从字典中获取一个项。你在字典中获取组件的索引操作与在列表中的操作相同，但索引采用的是键的形式，而不是相对偏移量。\n",
    "\n",
    "* **任意对象类型的无序集合**\n",
    "与列表中存储的项不同，字典中存储的项没有任何特定的顺序；实际上，Python会将它们的从左到右的顺序进行伪随机化，以提供快速查找。键提供了字典中项的符号（而非物理）位置。\n",
    "\n",
    "- **可变长度，异质，可任意嵌套**\n",
    "像列表一样，字典可以就地增长和缩小（不需要创建新的副本），它们可以包含任何类型的对象，并支持到任何深度的嵌套（比如可以包含列表，其他字典等）。每个键只能有一个关联的值，但如果需要，该值可以是多个对象的集合，并且给定的值可以存储在任何数量的键下。\n",
    "\n",
    "- **“可变映射”类别**\n",
    "你可以通过分配索引来更改字典（它们是可变的），但它们不支持在字符串和列表上工作的序列操作。因为字典是无序的集合，所以依赖于固定的位置顺序（例如，串联，切片）的操作没有意义。相反，字典是映射类别的唯一内置的、核心类型的代表——将键映射到值的对象。Python中的其他映射是由导入的模块创建的。\n",
    "\n",
    "- **对象引用的表（哈希表）**\n",
    "如果说列表是支持按位置访问的对象引用的数组，那么字典就是支持按键访问的对象引用的无序表。在内部，字典被实现为哈希表（支持非常快速检索的数据结构），这些哈希表开始时很小，但可以根据需求增长。此外，Python使用优化的哈希算法来查找键，所以检索很快。像列表一样，字典存储对象引用（不是副本，除非你明确要求）。"
   ],
   "metadata": {
    "collapsed": false
   }
  },
  {
   "cell_type": "markdown",
   "source": [
    "## 基础的字典操作（Basic Dictionary Operations）\n",
    "在常规操作中，你可以使用字面量来创建字典，并通过索引使用键来存储和访问项目："
   ],
   "metadata": {
    "collapsed": false
   }
  },
  {
   "cell_type": "code",
   "execution_count": 1,
   "outputs": [],
   "source": [
    "D = {'spam': 2, 'ham': 1, 'eggs': 3}    # Make a dictionary"
   ],
   "metadata": {
    "collapsed": false
   }
  },
  {
   "cell_type": "code",
   "execution_count": 2,
   "outputs": [
    {
     "data": {
      "text/plain": "2"
     },
     "execution_count": 2,
     "metadata": {},
     "output_type": "execute_result"
    }
   ],
   "source": [
    "D['spam']   # Fetch a value by key"
   ],
   "metadata": {
    "collapsed": false
   }
  },
  {
   "cell_type": "code",
   "execution_count": 3,
   "outputs": [
    {
     "data": {
      "text/plain": "{'spam': 2, 'ham': 1, 'eggs': 3}"
     },
     "execution_count": 3,
     "metadata": {},
     "output_type": "execute_result"
    }
   ],
   "source": [
    "D       # Order is \"scrambled\""
   ],
   "metadata": {
    "collapsed": false
   }
  },
  {
   "cell_type": "markdown",
   "source": [
    "内置的 len 函数也适用于字典；它返回存储在字典中的项目数量，或者等效地，它返回键列表的长度。字典的成员运算符 in 允许你测试键是否存在，keys 方法返回字典中的所有键。后者可以用于顺序处理字典，但是你不应该依赖键列表的顺序。因为 keys 的结果可以被当做普通的列表使用，所以如果顺序很重要，它总是可以排序的："
   ],
   "metadata": {
    "collapsed": false
   }
  },
  {
   "cell_type": "code",
   "execution_count": 4,
   "outputs": [
    {
     "data": {
      "text/plain": "3"
     },
     "execution_count": 4,
     "metadata": {},
     "output_type": "execute_result"
    }
   ],
   "source": [
    "len(D)      # Number of entries in dictionary"
   ],
   "metadata": {
    "collapsed": false
   }
  },
  {
   "cell_type": "code",
   "execution_count": 5,
   "outputs": [
    {
     "data": {
      "text/plain": "True"
     },
     "execution_count": 5,
     "metadata": {},
     "output_type": "execute_result"
    }
   ],
   "source": [
    "'ham' in D      # Key membership test alternative"
   ],
   "metadata": {
    "collapsed": false
   }
  },
  {
   "cell_type": "code",
   "execution_count": 6,
   "outputs": [
    {
     "data": {
      "text/plain": "['spam', 'ham', 'eggs']"
     },
     "execution_count": 6,
     "metadata": {},
     "output_type": "execute_result"
    }
   ],
   "source": [
    "list(D.keys())      # Create a new list of D's keys"
   ],
   "metadata": {
    "collapsed": false
   }
  },
  {
   "cell_type": "markdown",
   "source": [
    "### 就地修改字典（Changing Dictionaries in Place）\n",
    "字典，就像列表一样，是可变的，所以你可以更改、扩展和缩减它们，而无需制作新的字典：简单地将一个值分配给一个键，以更改或创建一个条目。这里的 del 语句也有作用；它删除与指定为索引的键相关联的条目。此外，也注意到在此示例中字典内部嵌套了一个列表（键 'ham' 的值）。在 Python 中，所有集合数据类型都可以任意地相互嵌套："
   ],
   "metadata": {
    "collapsed": false
   }
  },
  {
   "cell_type": "code",
   "execution_count": 7,
   "outputs": [
    {
     "data": {
      "text/plain": "{'spam': 2, 'ham': 1, 'eggs': 3}"
     },
     "execution_count": 7,
     "metadata": {},
     "output_type": "execute_result"
    }
   ],
   "source": [
    "D"
   ],
   "metadata": {
    "collapsed": false
   }
  },
  {
   "cell_type": "code",
   "execution_count": 8,
   "outputs": [],
   "source": [
    "D['ham'] = ['grill', 'bake', 'fry']     # Change entry (value=list)"
   ],
   "metadata": {
    "collapsed": false
   }
  },
  {
   "cell_type": "code",
   "execution_count": 9,
   "outputs": [
    {
     "data": {
      "text/plain": "{'spam': 2, 'ham': ['grill', 'bake', 'fry'], 'eggs': 3}"
     },
     "execution_count": 9,
     "metadata": {},
     "output_type": "execute_result"
    }
   ],
   "source": [
    "D"
   ],
   "metadata": {
    "collapsed": false
   }
  },
  {
   "cell_type": "code",
   "execution_count": 10,
   "outputs": [],
   "source": [
    "del D['eggs']   # Delete entry"
   ],
   "metadata": {
    "collapsed": false
   }
  },
  {
   "cell_type": "code",
   "execution_count": 11,
   "outputs": [
    {
     "data": {
      "text/plain": "{'spam': 2, 'ham': ['grill', 'bake', 'fry']}"
     },
     "execution_count": 11,
     "metadata": {},
     "output_type": "execute_result"
    }
   ],
   "source": [
    "D"
   ],
   "metadata": {
    "collapsed": false
   }
  },
  {
   "cell_type": "code",
   "execution_count": 12,
   "outputs": [],
   "source": [
    "D['brunch'] = 'Bacon'   # Add new entry"
   ],
   "metadata": {
    "collapsed": false
   }
  },
  {
   "cell_type": "code",
   "execution_count": 13,
   "outputs": [
    {
     "data": {
      "text/plain": "{'spam': 2, 'ham': ['grill', 'bake', 'fry'], 'brunch': 'Bacon'}"
     },
     "execution_count": 13,
     "metadata": {},
     "output_type": "execute_result"
    }
   ],
   "source": [
    "D"
   ],
   "metadata": {
    "collapsed": false
   }
  },
  {
   "cell_type": "code",
   "execution_count": null,
   "outputs": [],
   "source": [],
   "metadata": {
    "collapsed": false
   }
  }
 ],
 "metadata": {
  "kernelspec": {
   "display_name": "Python 3",
   "language": "python",
   "name": "python3"
  },
  "language_info": {
   "codemirror_mode": {
    "name": "ipython",
    "version": 2
   },
   "file_extension": ".py",
   "mimetype": "text/x-python",
   "name": "python",
   "nbconvert_exporter": "python",
   "pygments_lexer": "ipython2",
   "version": "2.7.6"
  }
 },
 "nbformat": 4,
 "nbformat_minor": 0
}
